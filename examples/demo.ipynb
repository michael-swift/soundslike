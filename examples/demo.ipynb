{
 "cells": [
  {
   "cell_type": "code",
   "execution_count": 8,
   "metadata": {},
   "outputs": [
    {
     "name": "stderr",
     "output_type": "stream",
     "text": [
      "2024-11-18 19:28:44,735 - soundslike.soundslike - INFO - Initialized ProbabilitySounds with sample_rate=44100\n",
      "2024-11-18 19:28:44,735 - __main__ - INFO - Initialized ProbabilitySounds with output directory: sound_output\n",
      "2024-11-18 19:28:44,736 - soundslike.soundslike - INFO - Generating normal distribution: mean=0, std=1\n",
      "2024-11-18 19:28:44,736 - soundslike.soundslike - INFO - Playing distribution with 1000 samples\n"
     ]
    },
    {
     "ename": "TypeError",
     "evalue": "ADSR.__init__() missing 1 required positional argument: 'sustain'",
     "output_type": "error",
     "traceback": [
      "\u001b[0;31m---------------------------------------------------------------------------\u001b[0m",
      "\u001b[0;31mTypeError\u001b[0m                                 Traceback (most recent call last)",
      "Cell \u001b[0;32mIn[8], line 17\u001b[0m\n\u001b[1;32m     14\u001b[0m logger\u001b[38;5;241m.\u001b[39minfo(\u001b[38;5;124mf\u001b[39m\u001b[38;5;124m\"\u001b[39m\u001b[38;5;124mInitialized ProbabilitySounds with output directory: sound_output\u001b[39m\u001b[38;5;124m\"\u001b[39m)\n\u001b[1;32m     16\u001b[0m \u001b[38;5;66;03m# Play a normal distribution\u001b[39;00m\n\u001b[0;32m---> 17\u001b[0m \u001b[43msound_dist\u001b[49m\u001b[38;5;241;43m.\u001b[39;49m\u001b[43mplay_normal\u001b[49m\u001b[43m(\u001b[49m\u001b[43mmean\u001b[49m\u001b[38;5;241;43m=\u001b[39;49m\u001b[38;5;241;43m0\u001b[39;49m\u001b[43m,\u001b[49m\u001b[43m \u001b[49m\u001b[43mstd\u001b[49m\u001b[38;5;241;43m=\u001b[39;49m\u001b[38;5;241;43m1\u001b[39;49m\u001b[43m,\u001b[49m\u001b[43m \u001b[49m\u001b[43mnum_samples\u001b[49m\u001b[38;5;241;43m=\u001b[39;49m\u001b[38;5;241;43m1000\u001b[39;49m\u001b[43m)\u001b[49m\n\u001b[1;32m     18\u001b[0m logger\u001b[38;5;241m.\u001b[39minfo(\u001b[38;5;124m\"\u001b[39m\u001b[38;5;124mPlaying normal distribution: mean=0, std=1, samples=1000\u001b[39m\u001b[38;5;124m\"\u001b[39m)\n\u001b[1;32m     20\u001b[0m \u001b[38;5;66;03m# Play a normal distribution\u001b[39;00m\n",
      "File \u001b[0;32m~/Kerna/personal_repos/soundslike/soundslike/soundslike.py:94\u001b[0m, in \u001b[0;36mProbabilitySounds.play_normal\u001b[0;34m(self, mean, std, num_samples)\u001b[0m\n\u001b[1;32m     92\u001b[0m logger\u001b[38;5;241m.\u001b[39minfo(\u001b[38;5;124mf\u001b[39m\u001b[38;5;124m\"\u001b[39m\u001b[38;5;124mGenerating normal distribution: mean=\u001b[39m\u001b[38;5;132;01m{\u001b[39;00mmean\u001b[38;5;132;01m}\u001b[39;00m\u001b[38;5;124m, std=\u001b[39m\u001b[38;5;132;01m{\u001b[39;00mstd\u001b[38;5;132;01m}\u001b[39;00m\u001b[38;5;124m\"\u001b[39m)\n\u001b[1;32m     93\u001b[0m samples \u001b[38;5;241m=\u001b[39m np\u001b[38;5;241m.\u001b[39mrandom\u001b[38;5;241m.\u001b[39mnormal(mean, std, num_samples)\n\u001b[0;32m---> 94\u001b[0m \u001b[38;5;28;43mself\u001b[39;49m\u001b[38;5;241;43m.\u001b[39;49m\u001b[43mplay_distribution\u001b[49m\u001b[43m(\u001b[49m\u001b[43msamples\u001b[49m\u001b[43m,\u001b[49m\u001b[43m \u001b[49m\u001b[43mprefix\u001b[49m\u001b[38;5;241;43m=\u001b[39;49m\u001b[38;5;124;43m'\u001b[39;49m\u001b[38;5;124;43mnormal\u001b[39;49m\u001b[38;5;124;43m'\u001b[39;49m\u001b[43m)\u001b[49m\n",
      "File \u001b[0;32m~/Kerna/personal_repos/soundslike/soundslike/soundslike.py:60\u001b[0m, in \u001b[0;36mProbabilitySounds.play_distribution\u001b[0;34m(self, dist_samples, scale_func, duration, save, prefix)\u001b[0m\n\u001b[1;32m     58\u001b[0m \u001b[38;5;66;03m# Mix signals and apply envelope\u001b[39;00m\n\u001b[1;32m     59\u001b[0m mixed \u001b[38;5;241m=\u001b[39m MixSignal(\u001b[38;5;241m*\u001b[39msignals)\n\u001b[0;32m---> 60\u001b[0m env \u001b[38;5;241m=\u001b[39m \u001b[43mADSR\u001b[49m\u001b[43m(\u001b[49m\u001b[43mattack\u001b[49m\u001b[38;5;241;43m=\u001b[39;49m\u001b[38;5;241;43m0.1\u001b[39;49m\u001b[43m,\u001b[49m\u001b[43m \u001b[49m\u001b[43mdecay\u001b[49m\u001b[38;5;241;43m=\u001b[39;49m\u001b[38;5;241;43m0.1\u001b[39;49m\u001b[43m,\u001b[49m\u001b[43m \u001b[49m\u001b[43msustain_level\u001b[49m\u001b[38;5;241;43m=\u001b[39;49m\u001b[38;5;241;43m0.7\u001b[39;49m\u001b[43m,\u001b[49m\u001b[43m \u001b[49m\u001b[43mrelease\u001b[49m\u001b[38;5;241;43m=\u001b[39;49m\u001b[38;5;241;43m0.1\u001b[39;49m\u001b[43m)\u001b[49m\n\u001b[1;32m     61\u001b[0m signal \u001b[38;5;241m=\u001b[39m mixed \u001b[38;5;241m*\u001b[39m env\n\u001b[1;32m     63\u001b[0m \u001b[38;5;28;01mif\u001b[39;00m save:\n",
      "\u001b[0;31mTypeError\u001b[0m: ADSR.__init__() missing 1 required positional argument: 'sustain'"
     ]
    }
   ],
   "source": [
    "import soundslike as sound_lib\n",
    "import numpy as np  # Add missing numpy import\n",
    "import logging\n",
    "\n",
    "# Set up logger\n",
    "logger = logging.getLogger(__name__)\n",
    "logging.basicConfig(\n",
    "    level=logging.INFO,\n",
    "    format='%(asctime)s - %(name)s - %(levelname)s - %(message)s'\n",
    ")\n",
    "\n",
    "# Create instance with descriptive name\n",
    "sound_dist = sound_lib.ProbabilitySounds(output_dir='sound_output')\n",
    "logger.info(f\"Initialized ProbabilitySounds with output directory: sound_output\")\n",
    "\n",
    "# Play a normal distribution\n",
    "sound_dist.play_normal(mean=0, std=1, num_samples=1000)\n",
    "logger.info(\"Playing normal distribution: mean=0, std=1, samples=1000\")\n",
    "\n",
    "# Play a normal distribution\n",
    "sound_dist.play_normal(mean=0, std=1, num_samples=1000)\n",
    "\n",
    "# Play a beta distribution\n",
    "sound_dist.play_beta(a=2, b=5, num_samples=1000)\n",
    "\n",
    "# Demonstrate CLT with exponential distribution\n",
    "sound_dist.demonstrate_central_limit_theorem(\n",
    "    np.random.exponential,\n",
    "    (1.0,),\n",
    "    sample_sizes=[2, 10, 30, 100]\n",
    ")\n",
    "\n",
    "# Create a mixture of distributions\n",
    "dist_funcs = [np.random.normal, np.random.normal]\n",
    "dist_args = [(0, 1), (3, 0.5)]\n",
    "weights = [0.7, 0.3]\n",
    "sound_dist.play_mixture(dist_funcs, dist_args, weights)"
   ]
  },
  {
   "cell_type": "code",
   "execution_count": null,
   "metadata": {},
   "outputs": [],
   "source": []
  }
 ],
 "metadata": {
  "kernelspec": {
   "display_name": "sounds",
   "language": "python",
   "name": "python3"
  },
  "language_info": {
   "codemirror_mode": {
    "name": "ipython",
    "version": 3
   },
   "file_extension": ".py",
   "mimetype": "text/x-python",
   "name": "python",
   "nbconvert_exporter": "python",
   "pygments_lexer": "ipython3",
   "version": "3.10.15"
  }
 },
 "nbformat": 4,
 "nbformat_minor": 2
}
