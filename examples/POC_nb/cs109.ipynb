{
 "cells": [
  {
   "cell_type": "markdown",
   "metadata": {},
   "source": [
    "# What do Probability and Statistics Sound like?"
   ]
  },
  {
   "cell_type": "markdown",
   "metadata": {},
   "source": [
    "##### Import libraries"
   ]
  },
  {
   "cell_type": "code",
   "execution_count": 80,
   "metadata": {},
   "outputs": [
    {
     "name": "stdout",
     "output_type": "stream",
     "text": [
      "done\n"
     ]
    }
   ],
   "source": [
    "# These are some handy libraries i used to write this code\n",
    "# Standard stuff \n",
    "import os\n",
    "import numpy as np\n",
    "import random\n",
    "import seaborn as sns\n",
    "import time\n",
    "#Visualization library\n",
    "import matplotlib.pyplot as plt\n",
    "import matplotlib.animation as animation\n",
    "\n",
    "import sounddevice as sd\n",
    "\"\"\"\n",
    "Audio driver library for python:  https://python-sounddevice.readthedocs.io/en/0.3.12/installation.html\n",
    "\n",
    "\n",
    "can be installed however you like with 'conda install -c conda-forge python-sounddevice' \n",
    "    \n",
    "    or 'python3 -m pip install sounddevice --user'\n",
    "    \n",
    "    or however you like to do it\n",
    "    \"\"\"\n",
    "\n",
    "\n",
    "#Python music library\n",
    "from pippi import dsp, oscs, tune\n",
    "\n",
    "\"\"\" music library for python: https://github.com/luvsound/pippi\n",
    "\n",
    "can be installed with 'pip install pippi'\n",
    "\n",
    "or from source \"\"\"\n",
    "import warnings\n",
    "warnings.filterwarnings('ignore')\n",
    "print('done')"
   ]
  },
  {
   "cell_type": "markdown",
   "metadata": {},
   "source": [
    "## Motivation"
   ]
  },
  {
   "cell_type": "markdown",
   "metadata": {},
   "source": [
    "The most popular way to generate an intuitive understanding of statistics is through visualization. Indeed if you search google for central limit theorem visualization, you'll find worthwhile contributions. However, a search of google for \"central limit theorem audio\" or other sound-related terms yields the IRRELEVANT. \n",
    "\n",
    "While vision is likely our most acute sense, I wondered what I was missing by solely relying on visualization to develop intuition about statistics. Furthermore, there are people for whom visualizations won't be helpful, such as the blind. I think they also deserve some tools to help them conceptualize the beauty of probability and statistics. While I'm lucky to be able to see and understand visualizations, I found using a different sense to understand probability to be interesting and worthwhile. So lend me your ear for a few minutes; hopefully you'll find the same. "
   ]
  },
  {
   "cell_type": "markdown",
   "metadata": {},
   "source": [
    "Functions included here can be used to hear different distributions, hear sampling of distributions, hear convolution of distributions. Use shift+tab to see what each function takes as inputs and it's possible doc string and go to town. Students could use these functions as a base to make other investigations into how probability sounds. \n",
    "\n",
    "For example, I made function that generates a song with the number of times a note occurs distributed as a poisson AND the length of each note is also distributed as poisson. It's a real banger!"
   ]
  },
  {
   "cell_type": "markdown",
   "metadata": {
    "heading_collapsed": true
   },
   "source": [
    "### Define functions"
   ]
  },
  {
   "cell_type": "code",
   "execution_count": 81,
   "metadata": {
    "hidden": true
   },
   "outputs": [],
   "source": [
    "def hear_normal(mean, std, num_samps):\n",
    "    dist_samples= np.random.normal(loc=mean, scale=std, size=num_samps)\n",
    "    out = dsp.buffer()            \n",
    "    for i in dist_samples:\n",
    "            #time.sleep(1)\n",
    "            osc = oscs.Osc(freq=i, wavetable=dsp.SINE, amp = 1/len(dist_samples))\n",
    "            out.dub(osc.play(5))\n",
    "            \n",
    "    print('playing normal distribution')\n",
    "    sns.distplot(dist_samples, kde = False)\n",
    "    sd.play(out)\n",
    "    #out.write('%s~/normal.wav')\n",
    "\"\"\"def hear_beta(a, b, num_samps):\n",
    "    dist_samples= np.random.beta(a,b, size=num_samps)\n",
    "    out = dsp.buffer()            \n",
    "    for i in dist_samples:\n",
    "            #time.sleep(1)\n",
    "            osc = oscs.Osc(freq=(i+1)*440, wavetable=dsp.SINE, amp = 1/len(dist_samples)) #scale probability to be a hearable freq\n",
    "            out.dub(osc.play(5))\n",
    "            \n",
    "    print('playing beta distribution')\n",
    "    sns.distplot(dist_samples, kde = False)\n",
    "    sd.play(out)\"\"\"\n",
    "def hear_beta(a, b, num_samps):\n",
    "    dist_samples= np.random.beta(a,b, size=num_samps)\n",
    "    out = dsp.buffer()  \n",
    "    \n",
    "    for i in dist_samples:\n",
    "            \n",
    "            osc = oscs.Osc(freq=(i+1)*440, wavetable=dsp.SINE, amp = 1/len(dist_samples)) #scale probability to be a hearable freq\n",
    "            out.dub(osc.play(3))\n",
    "            \n",
    "    print('playing beta distribution')\n",
    "    sns.distplot(dist_samples, kde = False)\n",
    "    sd.play(out)\n",
    "    \n",
    "def hear_beta_long(a, b, num_samps):\n",
    "    dist_samples= np.random.beta(a,b, size=num_samps)\n",
    "    out = dsp.buffer()            \n",
    "    for i in dist_samples:\n",
    "            #time.sleep(1)\n",
    "            osc = oscs.Osc(freq=(i+1)*440, wavetable=dsp.SINE, amp = 1/len(dist_samples)) #scale probability to be a hearable freq\n",
    "            out.dub(osc.play(5))  \n",
    "def hear_exponential(lamb_param, num_samps):\n",
    "    dist_samples= np.random.exponential(lamb_param, size=num_samps)\n",
    "    out = dsp.buffer()            \n",
    "    for i in dist_samples:\n",
    "            #time.sleep(1)\n",
    "            #Scale 0 to an audible frequency\n",
    "            osc = oscs.Osc(freq=(i+440), wavetable=dsp.SINE, amp = 1/len(dist_samples)) #scale probability to be a hearable freq\n",
    "            out.dub(osc.play(5))\n",
    "            \n",
    "    print('playing exponential distribution')\n",
    "    sns.distplot(dist_samples, kde = False)\n",
    "    sd.play(out)\n",
    "    \n",
    "def hear_poisson(lamb_param, num_samps):\n",
    "    dist_samples= np.random.poisson(lamb_param, size=num_samps)\n",
    "    out = dsp.buffer()            \n",
    "    for i in enumerate(dist_samples):\n",
    "            #time.sleep(1)\n",
    "            #Scale 0 to an audible frequency\n",
    "            osc = oscs.Osc(freq=(i[1]+10)*(i[0]+1), wavetable=dsp.SINE, amp = 1/len(dist_samples)) #scale probability to be a hearable freq\n",
    "            out.dub(osc.play(5))\n",
    "            \n",
    "    print('playing poisson distribution')\n",
    "    sns.distplot(dist_samples, kde = False)\n",
    "    sd.play(out)\n",
    "    \n",
    "    \n",
    "def hear_gumbel(loc, scale, num_samps):\n",
    "    dist_samples= np.random.gumbel(loc, scale, size=num_samps)\n",
    "    out = dsp.buffer() \n",
    "    print(dist_samples)\n",
    "    for i in dist_samples:\n",
    "            #time.sleep(1)\n",
    "            osc = oscs.Osc(freq=(i), wavetable=dsp.SINE, amp = 1/len(dist_samples)) #scale probability to be a hearable freq\n",
    "            out.dub(osc.play(5))\n",
    "            \n",
    "    print('playing the gumbel distribution')\n",
    "    g = sns.distplot(dist_samples, kde = False)\n",
    "    \n",
    "    sd.play(out)\n",
    "    \n",
    "def hear_poisson_in_G(num_notes):\n",
    "    \"\"\"Plays a 30 note 'song' with tones AND lengths distributed according to poisson\"\"\"\n",
    "    dist_samples= np.random.poisson(2, size= num_notes)\n",
    "    dist_length = np.random.poisson(2, size = num_notes)\n",
    "    out = dsp.buffer()\n",
    "    #list of frequencies in G major\n",
    "    g_major_freqs = [246.94,196.00 ,220,261.63,293.66,329.63,369.99,392.00]\n",
    "    \n",
    "    sns.distplot(dist_samples, kde = False)\n",
    "    for i in dist_samples:\n",
    "            running_buffer = dsp.buffer()\n",
    "            time.sleep((dist_length[i]+1)/8)\n",
    "            running_osc = oscs.Osc(freq=g_major_freqs[i], wavetable=dsp.SAW, amp = 1/len(dist_samples)) \n",
    "            running_buffer.dub(running_osc.play((dist_length[i]+1)/8))\n",
    "                               \n",
    "            print('Playing:', i)\n",
    "            sd.play(running_buffer)\n",
    "            #Scale 0 to an audible frequency\n",
    "    "
   ]
  },
  {
   "cell_type": "code",
   "execution_count": 82,
   "metadata": {
    "hidden": true
   },
   "outputs": [],
   "source": [
    "def listen_to_samples(mean, std, num_samps):\n",
    "    dist_samples= np.random.normal(loc=mean, scale=std, size=num_samps)\n",
    "    out_mean = dsp.buffer()\n",
    "    osc_mean = oscs.Osc(freq=np.mean(dist_samples), wavetable=dsp.SINE, amp = 0.5)\n",
    "    length = 1\n",
    "    out_mean.dub(osc_mean.play(length))\n",
    "    out = dsp.buffer()\n",
    "    \n",
    "    #loop thru 10 points in the dist for illustrative purposes\n",
    "    for i in dist_samples[:10]:\n",
    "                # Play the sampled frequency \n",
    "                running_buffer = dsp.buffer()\n",
    "                time.sleep(1*length)\n",
    "                running_osc = oscs.Osc(freq=i, wavetable=dsp.SINE, amp = 0.5)\n",
    "                running_buffer.dub(running_osc.play(length))\n",
    "                print('Playing the sampled frequency:', i)\n",
    "                sd.play(running_buffer)\n",
    "                #play the sonic distribution that arises from the frequencies \n",
    "                time.sleep(1 * length)\n",
    "                osc = oscs.Osc(freq=i, wavetable=dsp.SINE, amp =1/10) # may be able to change this so the amplitudes are added in a smarter way\n",
    "                #Add the new frequency to the buffer\n",
    "                out.dub(osc.play(length))\n",
    "                print(\"playing the sound distribution with newly added frequency\")\n",
    "                sd.play(out)\n",
    "                time.sleep(1)\n",
    "\n",
    "                #can uncomment to get the reference frequency which is the mean of the dist\n",
    "                #time.sleep (1*length)\n",
    "                #print(\"playing the mean frequency of the total sound distribution\")\n",
    "                #sd.play(out_mean)\n",
    "def hear_beta_update(a1, b1, num_updates):\n",
    "    #prior beta \n",
    "    hear_beta_long(a1,b1,200)\n",
    "    time.sleep(8)\n",
    "    #dist_samples= np.random.beta(a,b, size=num_samps)\n",
    "    for i in range(num_updates):\n",
    "        hear_beta(1,((i+1)*2)**2, 200)\n",
    "        print('updating beta distribution', 'a = 1, b =', ((i+2)*2)**2)\n",
    "        time.sleep(2)\n",
    "    \n",
    "    # final beta\n",
    "    #sns.distplot(dist_samples, kde = False)"
   ]
  },
  {
   "cell_type": "code",
   "execution_count": 83,
   "metadata": {
    "hidden": true
   },
   "outputs": [],
   "source": [
    "def IID_sum_uni(a,b, mean, num_samps):\n",
    "    \"\"\"Generates samples using a uniform distibution specifiedby a,b. \n",
    "    The mean of the resulting normal is chosen by the mean parameter, \n",
    "    and the number of samples is chosen by the number of samples. \n",
    "    Very similar to code written in a problem set except I have transposed the uniform to be an audible frequency\"\"\"\n",
    "    \n",
    "    IID_sum = []\n",
    "    for i in range(num_samps):\n",
    "\n",
    "        uniform_sum = 0 # set uniform_sum to 0\n",
    "        expectation_of_uni = (a+b)/2\n",
    "        var_of_uni = (b-a)**2/12\n",
    "        rounded_mean = np.round(mean)\n",
    "        iterations = int(rounded_mean/expectation_of_uni)\n",
    "        #print('rounded mean:', rounded_mean)\n",
    "        for j in range(iterations): #number of times to sum... n in central limit theorem\n",
    "        # E[X] (the uniform) is 1. Adding these together 440 times gives 440 a very hearable tone\n",
    "            uniform_sum += random.uniform(a,b)\n",
    "        IID_sum.append(uniform_sum)\n",
    "    rounded_sum = np.round(IID_sum, decimals=2)\n",
    "    print(np.mean(rounded_sum), 'mean of the distrubtion of added IID random uniforms')\n",
    "    print(np.var(rounded_sum), 'var of the distrubtion of added IID random uniforms')\n",
    "    if num_samps > 15:\n",
    "        n_bins = num_samps/10\n",
    "    #else: \n",
    "     #   n_bins = num_samps\n",
    "    #View the frequency distribution\n",
    "    sns.distplot(rounded_sum, kde=False, rug=False, bins = int(n_bins))\n",
    "    print(\"The normal distribution derived from the Central Limit Theorem would have: mean\", expectation_of_uni*iterations)\n",
    "    print(\"The normal distribution derived from the Central Limit Theorem would have: mean\", var_of_uni*iterations)\n",
    "    return rounded_sum, expectation_of_uni*iterations, var_of_uni*iterations"
   ]
  },
  {
   "cell_type": "code",
   "execution_count": 84,
   "metadata": {
    "hidden": true
   },
   "outputs": [],
   "source": [
    "def multimodal_dist(mean1, mean2, std1, std2, num_samps):\n",
    "    \"\"\" Plays two different normal distributions specified by the user\"\"\"\n",
    "    dist_samples1= np.random.normal(loc=mean1, scale=std1, size=num_samps)\n",
    "    out1 = dsp.buffer()  \n",
    "    out = dsp.buffer()\n",
    "    for i in dist_samples1:\n",
    "            #time.sleep(1)\n",
    "            osc = oscs.Osc(freq=i, wavetable=dsp.SINE, amp = 0.5/num_samps)\n",
    "            out1.dub(osc.play(6))\n",
    "            out.dub(osc.play(6))\n",
    "    dist_samples2= np.random.normal(loc=mean2, scale=std2, size=num_samps)\n",
    "    out2 = dsp.buffer()            \n",
    "    for i in dist_samples2:\n",
    "            #time.sleep(1)\n",
    "            osc = oscs.Osc(freq=i, wavetable=dsp.SINE, amp = 0.5/num_samps)\n",
    "            out2.dub(osc.play(6))\n",
    "            out.dub(osc.play(6))\n",
    "            \n",
    "    \n",
    "    dist_samples_all = np.append(dist_samples1, dist_samples2)\n",
    "    g = sns.distplot(dist_samples1, kde = False)\n",
    "    g1 = sns.distplot(dist_samples2, kde = False)\n",
    "    g2 =sns.distplot(dist_samples_all, kde = False, bins = int(num_samps))\n",
    "    \n",
    "    print('play dist1')\n",
    "    sd.play(out1)\n",
    "    time.sleep(5)\n",
    "    print('play dist2')\n",
    "    sd.play(out2)\n",
    "    time.sleep(5)\n",
    "    print('play the multimodal')\n",
    "    sd.play(out)\n",
    "    "
   ]
  },
  {
   "cell_type": "code",
   "execution_count": 85,
   "metadata": {
    "hidden": true
   },
   "outputs": [],
   "source": [
    "def play_clt(a,b,mean,num_samps): \n",
    "    \n",
    "    IID_output = IID_sum_uni(a,b,mean,num_samps)\n",
    "    rounded_sum = IID_output[0]\n",
    "    clt_mean = IID_output[1]\n",
    "    clt_var = IID_output[2]\n",
    "    sd.default.samplerate = 44100\n",
    "    out_mean= dsp.buffer()\n",
    "    out_440 = dsp.buffer()\n",
    "    osc_mean = oscs.Osc(freq=np.mean(rounded_sum), wavetable=dsp.SINE, amp = 0.5)\n",
    "    length = 1\n",
    "    out_mean.dub(osc_mean.play(length))\n",
    "    out = dsp.buffer()\n",
    "    out_clt = dsp.buffer()\n",
    "\n",
    "    #loop thru 10 points in the dist for illustrative purposes\n",
    "    print('Playing 10 representative samples from the distribution we created')\n",
    "    for i in rounded_sum[:4]:\n",
    "                # Play the sampled frequency \n",
    "                running_buffer = dsp.buffer()\n",
    "                time.sleep(1*length)\n",
    "                running_osc = oscs.Osc(freq=i, wavetable=dsp.SINE, amp = 0.5)\n",
    "                running_buffer.dub(running_osc.play(length))\n",
    "                print('Playing the sampled frequency:', i)\n",
    "                sd.play(running_buffer)\n",
    "                #play the sonic distribution that arises from the frequencies \n",
    "                time.sleep(1 * length)\n",
    "                osc = oscs.Osc(freq=i, wavetable=dsp.SINE, amp =1/10) # may be able to change this so the amplitudes are added in a smarter way\n",
    "                #Add the new frequency to the buffer\n",
    "                out.dub(osc.play(length))\n",
    "                print(\"playing the sound distribution with newly added frequency\")\n",
    "                sd.play(out)\n",
    "\n",
    "\n",
    "                #can uncomment to get the reference frequency which is the mean of the dist\n",
    "                #time.sleep (1*length)\n",
    "                #print(\"playing the mean frequency of the total sound distribution\")\n",
    "                #sd.play(out_mean)\n",
    "    time.sleep(0.5)\n",
    "    #clear buffer and fill it with every frequency in the list\n",
    "    out = dsp.buffer()            \n",
    "    for i in rounded_sum:\n",
    "                #time.sleep(1)\n",
    "                osc = oscs.Osc(freq=i, wavetable=dsp.SINE, amp = 1/len(rounded_sum))\n",
    "                out.dub(osc.play(length*5))\n",
    "\n",
    "\n",
    "    \n",
    "    #\n",
    "    #Playing total sum of distribution\n",
    "    print('play IID \"normal\"')\n",
    "    sd.play(out)\n",
    "    time.sleep(5)\n",
    "    print(clt_var)\n",
    "    print(clt_mean)\n",
    "    print(num_samps)\n",
    "    hear_normal(clt_mean, np.sqrt(clt_var), num_samps)\n",
    "            \n",
    "    \n",
    "    sns.distplot(rounded_sum, kde = False, color = 'purple')\n",
    "\n"
   ]
  },
  {
   "cell_type": "code",
   "execution_count": 86,
   "metadata": {
    "hidden": true
   },
   "outputs": [],
   "source": [
    "def play_convolve_dist(mean1, mean2, std1, std2, num_samps):\n",
    "    dist_samples1= np.random.normal(loc=mean1, scale=std1, size=num_samps)\n",
    "    dist_samples2= np.random.normal(loc=mean2, scale=std2, size=num_samps)\n",
    "    \n",
    "    # convolved distribution\n",
    "    conv_dist = np.random.normal(loc = mean1 + mean2, scale = std1*std2, size = num_samps)\n",
    "    \n",
    "    #create an out buffer for the audio\n",
    "    out = dsp.buffer()\n",
    "    out1 = dsp.buffer()\n",
    "    out2 = dsp.buffer()\n",
    "    out3 = dsp.buffer()\n",
    "    \n",
    "    #try just adding the two distrubtions to see what that sounds like, i.e. dist1[0] + dist2[0]\n",
    "    conv_adde2e = dist_samples1 + dist_samples2  #convolve by adding each sample to each sample\n",
    "    print(conv_adde2e)\n",
    "    #Dist1 audio generation\n",
    "    for i in dist_samples1:\n",
    "            #time.sleep(1)\n",
    "            osc = oscs.Osc(freq=i, wavetable=dsp.SINE, amp = 0.5/num_samps)\n",
    "            out1.dub(osc.play(5))\n",
    "            #out.dub(osc.play(5))\n",
    "    dist_samples2= np.random.normal(loc=mean2, scale=std2, size=num_samps)\n",
    "    out2 = dsp.buffer()            \n",
    "    \n",
    "    #Dist2 audio generation\n",
    "    for i in dist_samples2:\n",
    "            #time.sleep(1)\n",
    "            osc = oscs.Osc(freq=i, wavetable=dsp.SINE, amp = 0.5/num_samps)\n",
    "            out2.dub(osc.play(5))\n",
    "            #out.dub(osc.play(5))\n",
    "     \n",
    "    #Convolved dist audio generation\n",
    "    for i in conv_dist:\n",
    "            #time.sleep(1)\n",
    "            osc = oscs.Osc(freq=i, wavetable=dsp.SINE, amp = 0.5/num_samps)\n",
    "            out.dub(osc.play(5))\n",
    "            #out.dub(osc.play(5))\n",
    "    \n",
    "    \"\"\"for i in conv_adde2e:\n",
    "            #time.sleep(1)\n",
    "            osc = oscs.Osc(freq=i, wavetable=dsp.SINE, amp = 0.5/num_samps)\n",
    "            out3.dub(osc.play(5))\n",
    "            #out.dub(osc.play(5))\"\"\"\n",
    "    \n",
    "    sns.distplot(dist_samples1, kde = False, color ='blue' )\n",
    "    sns.distplot(dist_samples2, kde = False, color = 'red')\n",
    "    sns.distplot(conv_dist, kde = False, color = 'purple')\n",
    "    #sns.distplot(conv_adde2e)\n",
    "    print('play the dist 1 of all the sine waves')\n",
    "    sd.play(out1)\n",
    "    time.sleep(5)\n",
    "    print('play the dist 2 of all the sine waves')\n",
    "    sd.play(out2)\n",
    "    time.sleep(5)\n",
    "    #play convolved dist\n",
    "    print('play the convolved dist of all the sine waves')\n",
    "    sd.play(out)\n",
    "    time.sleep(5)\n",
    "    #print('play the sum of samples')\n",
    "    #sd.play(out3)"
   ]
  },
  {
   "cell_type": "code",
   "execution_count": 87,
   "metadata": {
    "hidden": true
   },
   "outputs": [],
   "source": [
    "def play_convolve_dist_saw(mean1, mean2, std1, std2, num_samps):\n",
    "    dist_samples1= np.random.normal(loc=mean1, scale=std1, size=num_samps)\n",
    "    dist_samples2= np.random.normal(loc=mean2, scale=std2, size=num_samps)\n",
    "    \n",
    "    # convolved distribution\n",
    "    conv_dist = np.random.normal(loc = mean1 + mean2, scale = std1*std2, size = num_samps)\n",
    "    \n",
    "    #create an out buffer for the audio\n",
    "    out = dsp.buffer()\n",
    "    out1 = dsp.buffer()\n",
    "    out2 = dsp.buffer()\n",
    "    out3 = dsp.buffer()\n",
    "    \n",
    "    #try just adding the two distrubtions to see what that sounds like, i.e. dist1[0] + dist2[0]\n",
    "    conv_adde2e = dist_samples1 + dist_samples2  #convolve by adding each sample to each sample\n",
    "    print(conv_adde2e)\n",
    "    #Dist1 audio generation\n",
    "    for i in dist_samples1:\n",
    "            #time.sleep(1)\n",
    "            osc = oscs.Osc(freq=i, wavetable=dsp.SAW, amp = 0.5/num_samps)\n",
    "            out1.dub(osc.play(length*5))\n",
    "            #out.dub(osc.play(length*5))\n",
    "    dist_samples2= np.random.normal(loc=mean2, scale=std2, size=num_samps)\n",
    "    out2 = dsp.buffer()            \n",
    "    \n",
    "    #Dist2 audio generation\n",
    "    for i in dist_samples2:\n",
    "            #time.sleep(1)\n",
    "            osc = oscs.Osc(freq=i, wavetable=dsp.SAW, amp = 0.5/num_samps)\n",
    "            out2.dub(osc.play(length*5))\n",
    "            #out.dub(osc.play(length*5))\n",
    "     \n",
    "    #Convolved dist audio generation\n",
    "    for i in conv_dist:\n",
    "            #time.sleep(1)\n",
    "            osc = oscs.Osc(freq=i, wavetable=dsp.SAW, amp = 0.5/num_samps)\n",
    "            out.dub(osc.play(length*5))\n",
    "            #out.dub(osc.play(length*5))\n",
    "    \n",
    "    for i in conv_adde2e:\n",
    "            #time.sleep(1)\n",
    "            osc = oscs.Osc(freq=i, wavetable=dsp.SAW, amp = 0.5/num_samps)\n",
    "            out3.dub(osc.play(length*5))\n",
    "            #out.dub(osc.play(length*5))\n",
    "    \n",
    "    sns.distplot(dist_samples1, kde = False)\n",
    "    sns.distplot(dist_samples2, kde = False)\n",
    "    sns.distplot(conv_dist, kde = False)\n",
    "    sns.distplot(conv_adde2e)\n",
    "    print('play the dist 1 of all the sine waves')\n",
    "    sd.play(out1)\n",
    "    time.sleep(5)\n",
    "    print('play the dist 2 of all the sine waves')\n",
    "    sd.play(out2)\n",
    "    time.sleep(5)\n",
    "    #play convolved dist\n",
    "    print('play the convolved dist of all the sine waves')\n",
    "    sd.play(out)\n",
    "    time.sleep(5)\n",
    "    print('play the sum of samples')\n",
    "    sd.play(out3)"
   ]
  },
  {
   "cell_type": "code",
   "execution_count": 88,
   "metadata": {
    "hidden": true
   },
   "outputs": [],
   "source": [
    "def hear_poisson_dist_in_series(lamb_param,num_notes, sqrt):\n",
    "    \"\"\"Plays a sampling of the poission distribution where the number of counts of a particular value is proportional to amount of time the note is played\"\"\"\n",
    "    dist_samples= np.random.poisson(lamb_param, size= num_notes)\n",
    "    #dist_length = np.random.poisson(lamb_param, size = num_notes)\n",
    "    amplitudes = list(np.histogram(dist_samples, bins = len(np.unique(dist_samples)))[0])\n",
    "    out = dsp.buffer()\n",
    "    #list of frequencies in G major\n",
    "    g_major_freqs = [196.00,220,246.94,261.63,293.66,329.63,369.99,392.00, 440, 493.88, 523.55,587.33,659.25, 698.46, 740, 784]\n",
    "    dist_samples = np.sort(dist_samples)\n",
    "    sns.distplot(dist_samples, kde = False)\n",
    "    if sqrt == True:\n",
    "        for i in enumerate(list(np.histogram(dist_samples, bins = len(np.unique(dist_samples)))[0])):\n",
    "            running_buffer = dsp.buffer()\n",
    "\n",
    "            running_osc = oscs.Osc(freq=g_major_freqs[i[0]], wavetable=dsp.SQUARE, amp = 1) \n",
    "            running_buffer.dub(running_osc.play((0.3 * np.sqrt(i[1]/100))))\n",
    "\n",
    "            print('Playing:', i)\n",
    "            sd.play(running_buffer)\n",
    "            time.sleep((0.3 * np.sqrt(i[1]/100))) \n",
    "                #Scale 0 to an audible frequency\n",
    "    else:\n",
    "        for i in enumerate(list(np.histogram(dist_samples, bins = len(np.unique(dist_samples)))[0])):\n",
    "            running_buffer = dsp.buffer()\n",
    "\n",
    "            running_osc = oscs.Osc(freq=g_major_freqs[i[0]], wavetable=dsp.SQUARE, amp = 1) \n",
    "            running_buffer.dub(running_osc.play((0.3 * i[1]/100)))\n",
    "\n",
    "            print('Playing:', i)\n",
    "            sd.play(running_buffer)\n",
    "            time.sleep((0.3 * i[1]/100)) \n",
    "                #Scale 0 to an audible frequency"
   ]
  },
  {
   "cell_type": "markdown",
   "metadata": {},
   "source": [
    "## Listen to the CLT "
   ]
  },
  {
   "cell_type": "markdown",
   "metadata": {},
   "source": [
    "This function works by by summing IID random uniforms generating an audio of this. Then by using Scipy to sample the normal distribution that this approximates and generate audio of this distribution. Each sample is transformed into a frequency represented aurally by a sine wave. By recording each of these sine waves into a buffer we can hear what the distribution sounds like."
   ]
  },
  {
   "cell_type": "code",
   "execution_count": 89,
   "metadata": {},
   "outputs": [
    {
     "name": "stdout",
     "output_type": "stream",
     "text": [
      "438.872 mean of the distrubtion of added IID random uniforms\n",
      "48.88089599999997 var of the distrubtion of added IID random uniforms\n",
      "The normal distribution derived from the Central Limit Theorem would have: mean 440.0\n",
      "The normal distribution derived from the Central Limit Theorem would have: mean 73.33333333333333\n",
      "Playing 10 representative samples from the distribution we created\n",
      "Playing the sampled frequency: 431.67\n",
      "playing the sound distribution with newly added frequency\n",
      "Playing the sampled frequency: 434.05\n",
      "playing the sound distribution with newly added frequency\n",
      "Playing the sampled frequency: 433.79\n",
      "playing the sound distribution with newly added frequency\n",
      "Playing the sampled frequency: 449.87\n",
      "playing the sound distribution with newly added frequency\n",
      "play IID \"normal\"\n",
      "73.33333333333333\n",
      "440.0\n",
      "20\n",
      "playing normal distribution\n"
     ]
    },
    {
     "data": {
      "image/png": "[encoded data removed]",
      "text/plain": [
       "<Figure size 432x288 with 1 Axes>"
      ]
     },
     "metadata": {
      "needs_background": "light"
     },
     "output_type": "display_data"
    }
   ],
   "source": [
    "play_clt(0, 1, 440, 20)"
   ]
  },
  {
   "cell_type": "markdown",
   "metadata": {},
   "source": [
    "The difference in means and variance is almost imperceptible unless they are played together at the same time. "
   ]
  },
  {
   "cell_type": "markdown",
   "metadata": {},
   "source": [
    "## Listen to different types of distributions"
   ]
  },
  {
   "cell_type": "markdown",
   "metadata": {},
   "source": [
    "### Beta"
   ]
  },
  {
   "cell_type": "code",
   "execution_count": 107,
   "metadata": {},
   "outputs": [
    {
     "name": "stdout",
     "output_type": "stream",
     "text": [
      "playing beta distribution\n"
     ]
    },
    {
     "data": {
      "image/png": "[encoded data removed]",
      "text/plain": [
       "<Figure size 432x288 with 1 Axes>"
      ]
     },
     "metadata": {
      "needs_background": "light"
     },
     "output_type": "display_data"
    }
   ],
   "source": [
    "hear_beta(1,1,500)"
   ]
  },
  {
   "cell_type": "code",
   "execution_count": 109,
   "metadata": {},
   "outputs": [
    {
     "name": "stdout",
     "output_type": "stream",
     "text": [
      "playing beta distribution\n",
      "updating beta distribution a = 1, b = 16\n",
      "playing beta distribution\n",
      "updating beta distribution a = 1, b = 36\n",
      "playing beta distribution\n",
      "updating beta distribution a = 1, b = 64\n",
      "playing beta distribution\n",
      "updating beta distribution a = 1, b = 100\n",
      "playing beta distribution\n",
      "updating beta distribution a = 1, b = 144\n",
      "playing beta distribution\n",
      "updating beta distribution a = 1, b = 196\n",
      "playing beta distribution\n",
      "updating beta distribution a = 1, b = 256\n",
      "playing beta distribution\n",
      "updating beta distribution a = 1, b = 324\n",
      "playing beta distribution\n",
      "updating beta distribution a = 1, b = 400\n",
      "playing beta distribution\n",
      "updating beta distribution a = 1, b = 484\n"
     ]
    },
    {
     "data": {
      "image/png": "[encoded data removed]",
      "text/plain": [
       "<Figure size 432x288 with 1 Axes>"
      ]
     },
     "metadata": {
      "needs_background": "light"
     },
     "output_type": "display_data"
    }
   ],
   "source": [
    "hear_beta_update(1,1, num_updates=10)"
   ]
  },
  {
   "cell_type": "markdown",
   "metadata": {},
   "source": [
    "A weak prior belief sounds like what I like to call the cloud of confusion. Strong priors are perceived as one tone suggesting the higher level of certainty around your prior. "
   ]
  },
  {
   "cell_type": "markdown",
   "metadata": {},
   "source": [
    "### The discrete distributions are quite interesting."
   ]
  },
  {
   "cell_type": "code",
   "execution_count": 111,
   "metadata": {},
   "outputs": [
    {
     "name": "stdout",
     "output_type": "stream",
     "text": [
      "playing poisson distribution\n"
     ]
    },
    {
     "data": {
      "image/png": "[encoded data removed]",
      "text/plain": [
       "<Figure size 432x288 with 1 Axes>"
      ]
     },
     "metadata": {
      "needs_background": "light"
     },
     "output_type": "display_data"
    }
   ],
   "source": [
    "hear_poisson(40,15)"
   ]
  },
  {
   "cell_type": "code",
   "execution_count": 93,
   "metadata": {},
   "outputs": [
    {
     "name": "stdout",
     "output_type": "stream",
     "text": [
      "playing exponential distribution\n"
     ]
    },
    {
     "data": {
      "image/png": "[encoded data removed]",
      "text/plain": [
       "<Figure size 432x288 with 1 Axes>"
      ]
     },
     "metadata": {
      "needs_background": "light"
     },
     "output_type": "display_data"
    }
   ],
   "source": [
    "hear_exponential(3,100)"
   ]
  },
  {
   "cell_type": "markdown",
   "metadata": {
    "heading_collapsed": true
   },
   "source": [
    "#### Gumbel doesn't sound so great "
   ]
  },
  {
   "cell_type": "code",
   "execution_count": 94,
   "metadata": {
    "hidden": true
   },
   "outputs": [
    {
     "name": "stdout",
     "output_type": "stream",
     "text": [
      "[480.97352735 413.30247662 437.74291367 455.52132944 453.52394435\n",
      " 424.72465055 455.89900502 466.91331185 464.69891174 476.52758835\n",
      " 442.66170484 491.97021445 451.87814702 441.76341528 449.9192583\n",
      " 436.47271035 476.4886183  430.40811025 468.36810021 428.87370394\n",
      " 442.08693311 456.48457626 430.05190511 468.30344907 432.54572356\n",
      " 422.40024242 440.15884817 498.39031115 457.61266666 461.46799091\n",
      " 443.32043267 455.34712132 457.10276721 422.88977855 567.11529256\n",
      " 486.42115683 419.26607745 419.06127311 427.26006836 430.49967485\n",
      " 491.64482509 446.23385785 472.55031289 449.7875953  453.09853132\n",
      " 435.70091843 441.87150334 508.34726761 434.58151806 423.79794047\n",
      " 437.45951935 439.40651618 429.65781309 425.16679034 448.85005504\n",
      " 443.25871306 418.23095474 472.64436667 457.66965404 489.57630029\n",
      " 455.07710045 444.51153103 483.18803655 416.66482073 469.25457834\n",
      " 419.45338474 460.072581   498.4113773  450.56062632 414.2188371\n",
      " 443.03560992 439.45702643 484.98526358 477.04159622 410.96809275\n",
      " 421.13424484 484.48391448 532.71036357 445.42837164 428.06688044\n",
      " 439.02508392 416.73316351 475.08629113 435.41338406 479.43921002\n",
      " 452.81244257 486.68862236 448.4032827  469.0556748  425.55878286\n",
      " 439.33678957 426.50079312 423.31100135 440.87216307 479.08126876\n",
      " 441.84295488 412.32715647 466.17264513 457.89687934 456.14898642]\n",
      "playing the gumbel distribution\n"
     ]
    },
    {
     "data": {
      "image/png": "[encoded data removed]",
      "text/plain": [
       "<Figure size 432x288 with 1 Axes>"
      ]
     },
     "metadata": {
      "needs_background": "light"
     },
     "output_type": "display_data"
    }
   ],
   "source": [
    "hear_gumbel(440, 20, 100)"
   ]
  },
  {
   "cell_type": "markdown",
   "metadata": {
    "heading_collapsed": true
   },
   "source": [
    "### The ear hears lower variance as being louder, even though the actual amount of sound is similar. "
   ]
  },
  {
   "cell_type": "markdown",
   "metadata": {
    "hidden": true
   },
   "source": [
    "Try playing with the variance of \"hear_normal\". You'll note two things. \n",
    "1. If the variance is low, the frequency played condenses on what seems like 1 tone to you. Although from the graph we can see the frequencies are still normally distributed. \n",
    "2. It seems that a higher variance will produce a sound that isn't as loud, is this true or is it a quirk of your perception? Turns out a very similar amount of actual sonic energy is hitting your ears, in the case of high variance and low variance (barring phase cancellation issues, which are real and audible)."
   ]
  },
  {
   "cell_type": "code",
   "execution_count": 95,
   "metadata": {
    "hidden": true
   },
   "outputs": [
    {
     "name": "stdout",
     "output_type": "stream",
     "text": [
      "playing normal distribution\n"
     ]
    },
    {
     "data": {
      "image/png": "[encoded data removed]",
      "text/plain": [
       "<Figure size 432x288 with 1 Axes>"
      ]
     },
     "metadata": {
      "needs_background": "light"
     },
     "output_type": "display_data"
    }
   ],
   "source": [
    "hear_normal(440, 1, 1000)"
   ]
  },
  {
   "cell_type": "markdown",
   "metadata": {},
   "source": [
    "### You can use this function to listen to a distribution being built up by sound. "
   ]
  },
  {
   "cell_type": "code",
   "execution_count": 96,
   "metadata": {},
   "outputs": [
    {
     "name": "stdout",
     "output_type": "stream",
     "text": [
      "Playing the sampled frequency: 375.75144813307685\n",
      "playing the sound distribution with newly added frequency\n",
      "Playing the sampled frequency: 421.46078102486155\n",
      "playing the sound distribution with newly added frequency\n",
      "Playing the sampled frequency: 843.5196926761434\n",
      "playing the sound distribution with newly added frequency\n",
      "Playing the sampled frequency: 385.8258879695218\n",
      "playing the sound distribution with newly added frequency\n",
      "Playing the sampled frequency: 402.75208886256553\n",
      "playing the sound distribution with newly added frequency\n",
      "Playing the sampled frequency: 527.3051473972247\n",
      "playing the sound distribution with newly added frequency\n",
      "Playing the sampled frequency: 456.37144875719827\n",
      "playing the sound distribution with newly added frequency\n",
      "Playing the sampled frequency: 382.8897572634747\n",
      "playing the sound distribution with newly added frequency\n",
      "Playing the sampled frequency: 313.07602621452065\n",
      "playing the sound distribution with newly added frequency\n",
      "Playing the sampled frequency: 331.6751254559943\n",
      "playing the sound distribution with newly added frequency\n"
     ]
    }
   ],
   "source": [
    "listen_to_samples(440, 200, 100)"
   ]
  },
  {
   "cell_type": "markdown",
   "metadata": {},
   "source": [
    "## Multiple modes = Beat Frequencies"
   ]
  },
  {
   "cell_type": "markdown",
   "metadata": {},
   "source": [
    "Musicians are likely familiar with beat frequencies with occur when they are tuning and frequencies close but not identical resulting in a \"beating\" sound. You can try it by making two normal distributions with similar mean frequencies and low variances.  "
   ]
  },
  {
   "cell_type": "code",
   "execution_count": 97,
   "metadata": {},
   "outputs": [
    {
     "name": "stdout",
     "output_type": "stream",
     "text": [
      "play dist1\n",
      "play dist2\n",
      "play the multimodal\n"
     ]
    },
    {
     "data": {
      "image/png": "[encoded data removed]",
      "text/plain": [
       "<Figure size 432x288 with 1 Axes>"
      ]
     },
     "metadata": {
      "needs_background": "light"
     },
     "output_type": "display_data"
    }
   ],
   "source": [
    "multimodal_dist(440, 442, 0.1, 0.1, num_samps=100)"
   ]
  },
  {
   "cell_type": "markdown",
   "metadata": {},
   "source": [
    "## Convolution of two normals sounds interesting. You can hear how mean and variance of the distributions are mathematically different in the convolution. "
   ]
  },
  {
   "cell_type": "code",
   "execution_count": 98,
   "metadata": {},
   "outputs": [
    {
     "name": "stdout",
     "output_type": "stream",
     "text": [
      "[ -240.85193521  1097.13945162   766.28970191  1707.88251831\n",
      "  -139.85891934  -703.49798148   668.65585584  1547.59703196\n",
      "  -124.94616416    93.09246799  -141.9669226   -536.29600693\n",
      "   656.12159929   693.26131529  1203.22200654   155.08831838\n",
      "  1770.96250631    35.32644579  1915.12304351  -496.79214571\n",
      "  2475.96772326  -698.27068635  1420.46459409   728.98917002\n",
      "  1376.95920924  2267.57017611   828.94857118  1609.16344417\n",
      "  1966.27356579   252.19172086  2243.43330147   163.82977579\n",
      "  1909.91564062  -520.73261977   -41.13198498   453.1891172\n",
      "  1179.15546347  1666.5709418  -1157.34309669   818.24890453\n",
      "  -901.03416867  -513.58281865   900.96201892 -1110.2775491\n",
      "   625.64936179  -364.96095332  -788.00968262  1693.76580913\n",
      "  1498.53352414   898.46259084  2298.22184148   448.67189578\n",
      "  1079.17028981   719.4673436     74.31244956  1271.75948664\n",
      "  -634.08234992 -1640.60826616  -850.15338441   348.08887252\n",
      "  2429.1059672   -197.39345092  -449.23503579  1514.01148883\n",
      "  -743.57470583  -120.93224711  1033.14941001  -535.61410766\n",
      "  1344.87278699   541.13869     1115.68424589  1641.54052335\n",
      "   895.80934447 -1690.75948163   878.4918156   1390.43960171\n",
      "   487.33834097  -261.13269674  -169.81805367  1317.4560976\n",
      "  -653.38415805   662.17343823 -1833.7774616    643.00088507\n",
      "  -909.15190957  -753.04166431  -452.60926586   504.10355973\n",
      "  -360.77475975  1118.27557298  1580.67519728  1561.52066477\n",
      "  1280.1643735   -538.69230491   711.78473244  -182.42840818\n",
      "  -275.47467349  1253.00116154  1212.50682035   738.46036774]\n",
      "play the dist 1 of all the sine waves\n",
      "play the dist 2 of all the sine waves\n",
      "play the convolved dist of all the sine waves\n"
     ]
    },
    {
     "data": {
      "image/png": "[encoded data removed]",
      "text/plain": [
       "<Figure size 432x288 with 1 Axes>"
      ]
     },
     "metadata": {
      "needs_background": "light"
     },
     "output_type": "display_data"
    }
   ],
   "source": [
    "play_convolve_dist(440/2, 440, 1000, 1, 100)"
   ]
  },
  {
   "cell_type": "markdown",
   "metadata": {},
   "source": [
    "Here we can hear the effect of convolving a distribution with high variance with a distribution with low variance. The mean frequency of the low variance distribution is essentially washed out by the high variance. You can't pick it out of the convolved distribution even though it was once very clearly 1 note.  "
   ]
  },
  {
   "cell_type": "code",
   "execution_count": 99,
   "metadata": {},
   "outputs": [
    {
     "name": "stdout",
     "output_type": "stream",
     "text": [
      "[657.40441951 661.79395644 658.54177355 660.16296765 662.04646398\n",
      " 660.90656019 660.63187319 658.15204624 661.3392707  659.51950268\n",
      " 658.64751897 661.03470575 660.99609754 660.51512913 658.55597414\n",
      " 658.40499538 661.92084258 661.23934814 658.81617404 661.50107625\n",
      " 660.28187722 662.01830038 658.74996245 660.2676437  659.9370187\n",
      " 658.24676783 663.14384594 657.9931564  660.86663101 659.73845942\n",
      " 658.82101133 659.73621983 659.51220862 658.01733271 658.66451656\n",
      " 660.73651134 660.80456031 656.18823912 661.77057904 661.23484889\n",
      " 659.26972095 656.552951   659.82215297 657.96391535 657.16115173\n",
      " 658.87161474 659.5016648  659.39640616 660.50226556 659.66404684\n",
      " 659.73933421 661.80342081 662.29889311 660.10379819 657.84265524\n",
      " 657.84589481 659.23272594 660.22797142 660.89969835 659.94938281\n",
      " 663.12409137 662.91937086 660.55354868 660.59531366 657.58336744\n",
      " 662.54284475 663.15356276 660.84227243 656.75989883 659.06396814\n",
      " 660.52451128 658.64643499 657.96628311 659.79009128 659.62630158\n",
      " 661.46983046 660.15993411 660.87730402 664.68735442 658.31609918\n",
      " 661.40063393 660.14115097 663.10148617 658.16423612 659.41289216\n",
      " 659.17678011 661.20854397 660.07181399 659.34629769 659.30989091\n",
      " 659.37790208 661.05476506 661.35460711 659.96979167 660.24598143\n",
      " 660.32489958 661.37619026 658.34337658 660.02369448 658.47099769]\n",
      "play the dist 1 of all the sine waves\n",
      "play the dist 2 of all the sine waves\n",
      "play the convolved dist of all the sine waves\n"
     ]
    },
    {
     "data": {
      "image/png": "[encoded data removed]",
      "text/plain": [
       "<Figure size 432x288 with 1 Axes>"
      ]
     },
     "metadata": {
      "needs_background": "light"
     },
     "output_type": "display_data"
    }
   ],
   "source": [
    "play_convolve_dist(440/2, 440, 1, 1, 100)"
   ]
  },
  {
   "cell_type": "markdown",
   "metadata": {},
   "source": [
    "Meanwhile if the variances are low, then the dominant effect is adding the means, which simply results in us hearing a higher mean."
   ]
  },
  {
   "cell_type": "markdown",
   "metadata": {},
   "source": [
    "We can also use different wave forms if you're interested"
   ]
  },
  {
   "cell_type": "markdown",
   "metadata": {},
   "source": [
    "## Convergence of Expectation on a frequency as n goes to infinity"
   ]
  },
  {
   "cell_type": "code",
   "execution_count": 102,
   "metadata": {},
   "outputs": [],
   "source": [
    "def play_convergence_expectation():# 1000 simulations of die roll\n",
    "    \"\"\"This function uses the classic dye roll example to show how \"\"\"\n",
    "    n = 30000\n",
    "    length = 0.05\n",
    "    # In each simulation, there is one trial more than the previous simulation\n",
    "    avg = []\n",
    "    for i in range(1,20):\n",
    "        a = np.random.randint(1,7,i)\n",
    "        \n",
    "        avg.append(np.average(a))\n",
    "        running_buffer = dsp.buffer()\n",
    "        time.sleep(1.1*length)\n",
    "        running_osc = oscs.Osc(freq=np.average(a)*100, wavetable=dsp.SINE, amp = 0.5)\n",
    "        running_buffer.dub(running_osc.play(length))\n",
    "        print('Playing the sampled frequency:', np.average(a) * 100)\n",
    "        sd.play(running_buffer)\n",
    "    print(\"switch to increments of 15 samples\")\n",
    "    for i in range(500,1000,15):\n",
    "        print('Playing the sampled frequency:', np.average(a)*100)\n",
    "        a = np.random.randint(1,7,i)\n",
    "        avg.append(np.average(a))\n",
    "        running_buffer = dsp.buffer()\n",
    "        time.sleep(1.1*length)\n",
    "        running_osc = oscs.Osc(freq=np.average(a)*100, wavetable=dsp.SINE, amp = 0.5)\n",
    "        running_buffer.dub(running_osc.play(length))\n",
    "        print('Playing the sampled frequency:', np.average(a) * 100)\n",
    "        sd.play(running_buffer) \n",
    "    print(\"switch to increments of 500\")\n",
    "    for i in range(100,n,500):\n",
    "        print('Playing the sampled frequency:', np.average(a)*100)\n",
    "        a = np.random.randint(1,7,i)\n",
    "        avg.append(np.average(a))\n",
    "        running_buffer = dsp.buffer()\n",
    "        time.sleep(1.1*length)\n",
    "        running_osc = oscs.Osc(freq=np.average(a)*100, wavetable=dsp.SINE, amp = 0.5)\n",
    "        running_buffer.dub(running_osc.play(length))\n",
    "        print('Playing the sampled frequency:', np.average(a) * 100)\n",
    "        sd.play(running_buffer)  \n",
    "    out_final = dsp.buffer()\n",
    "    out_final.dub(running_osc.play(length*5))\n",
    "    sd.play(out_final)\n",
    "    # sample 10 expected value of die rolls\n",
    "    #avg[10:1000]"
   ]
  },
  {
   "cell_type": "code",
   "execution_count": 103,
   "metadata": {},
   "outputs": [
    {
     "name": "stdout",
     "output_type": "stream",
     "text": [
      "Playing the sampled frequency: 400.0\n",
      "Playing the sampled frequency: 150.0\n",
      "Playing the sampled frequency: 400.0\n",
      "Playing the sampled frequency: 350.0\n",
      "Playing the sampled frequency: 340.0\n",
      "Playing the sampled frequency: 433.3333333333333\n",
      "Playing the sampled frequency: 400.0\n",
      "Playing the sampled frequency: 287.5\n",
      "Playing the sampled frequency: 311.11111111111114\n",
      "Playing the sampled frequency: 350.0\n",
      "Playing the sampled frequency: 354.54545454545456\n",
      "Playing the sampled frequency: 391.66666666666663\n",
      "Playing the sampled frequency: 369.2307692307692\n",
      "Playing the sampled frequency: 314.2857142857143\n",
      "Playing the sampled frequency: 413.33333333333337\n",
      "Playing the sampled frequency: 418.75\n",
      "Playing the sampled frequency: 329.4117647058823\n",
      "Playing the sampled frequency: 305.55555555555554\n",
      "Playing the sampled frequency: 336.84210526315786\n",
      "switch to increments of 15 samples\n",
      "Playing the sampled frequency: 336.84210526315786\n",
      "Playing the sampled frequency: 347.8\n",
      "Playing the sampled frequency: 347.8\n",
      "Playing the sampled frequency: 346.99029126213594\n",
      "Playing the sampled frequency: 346.99029126213594\n",
      "Playing the sampled frequency: 356.41509433962267\n",
      "Playing the sampled frequency: 356.41509433962267\n",
      "Playing the sampled frequency: 340.91743119266056\n",
      "Playing the sampled frequency: 340.91743119266056\n",
      "Playing the sampled frequency: 353.57142857142856\n",
      "Playing the sampled frequency: 353.57142857142856\n",
      "Playing the sampled frequency: 347.47826086956525\n",
      "Playing the sampled frequency: 347.47826086956525\n",
      "Playing the sampled frequency: 349.1525423728814\n",
      "Playing the sampled frequency: 349.1525423728814\n",
      "Playing the sampled frequency: 352.23140495867773\n",
      "Playing the sampled frequency: 352.23140495867773\n",
      "Playing the sampled frequency: 355.96774193548384\n",
      "Playing the sampled frequency: 355.96774193548384\n",
      "Playing the sampled frequency: 359.5275590551181\n",
      "Playing the sampled frequency: 359.5275590551181\n",
      "Playing the sampled frequency: 351.8461538461538\n",
      "Playing the sampled frequency: 351.8461538461538\n",
      "Playing the sampled frequency: 353.98496240601503\n",
      "Playing the sampled frequency: 353.98496240601503\n",
      "Playing the sampled frequency: 351.61764705882354\n",
      "Playing the sampled frequency: 351.61764705882354\n",
      "Playing the sampled frequency: 363.45323741007195\n",
      "Playing the sampled frequency: 363.45323741007195\n",
      "Playing the sampled frequency: 347.0422535211267\n",
      "Playing the sampled frequency: 347.0422535211267\n",
      "Playing the sampled frequency: 352.2758620689655\n",
      "Playing the sampled frequency: 352.2758620689655\n",
      "Playing the sampled frequency: 346.7567567567568\n",
      "Playing the sampled frequency: 346.7567567567568\n",
      "Playing the sampled frequency: 357.2185430463576\n",
      "Playing the sampled frequency: 357.2185430463576\n",
      "Playing the sampled frequency: 358.1818181818182\n",
      "Playing the sampled frequency: 358.1818181818182\n",
      "Playing the sampled frequency: 353.1210191082803\n",
      "Playing the sampled frequency: 353.1210191082803\n",
      "Playing the sampled frequency: 347.375\n",
      "Playing the sampled frequency: 347.375\n",
      "Playing the sampled frequency: 350.42944785276075\n",
      "Playing the sampled frequency: 350.42944785276075\n",
      "Playing the sampled frequency: 348.6746987951807\n",
      "Playing the sampled frequency: 348.6746987951807\n",
      "Playing the sampled frequency: 348.7573964497042\n",
      "Playing the sampled frequency: 348.7573964497042\n",
      "Playing the sampled frequency: 354.06976744186045\n",
      "Playing the sampled frequency: 354.06976744186045\n",
      "Playing the sampled frequency: 345.7142857142857\n",
      "Playing the sampled frequency: 345.7142857142857\n",
      "Playing the sampled frequency: 347.19101123595505\n",
      "Playing the sampled frequency: 347.19101123595505\n",
      "Playing the sampled frequency: 354.585635359116\n",
      "Playing the sampled frequency: 354.585635359116\n",
      "Playing the sampled frequency: 356.95652173913044\n",
      "Playing the sampled frequency: 356.95652173913044\n",
      "Playing the sampled frequency: 351.7647058823529\n",
      "Playing the sampled frequency: 351.7647058823529\n",
      "Playing the sampled frequency: 335.05263157894734\n",
      "Playing the sampled frequency: 335.05263157894734\n",
      "Playing the sampled frequency: 351.1917098445596\n",
      "Playing the sampled frequency: 351.1917098445596\n",
      "Playing the sampled frequency: 345.0\n",
      "Playing the sampled frequency: 345.0\n",
      "Playing the sampled frequency: 356.58291457286435\n",
      "switch to increments of 500\n",
      "Playing the sampled frequency: 356.58291457286435\n",
      "Playing the sampled frequency: 339.0\n",
      "Playing the sampled frequency: 339.0\n",
      "Playing the sampled frequency: 347.66666666666663\n",
      "Playing the sampled frequency: 347.66666666666663\n",
      "Playing the sampled frequency: 341.1818181818182\n",
      "Playing the sampled frequency: 341.1818181818182\n",
      "Playing the sampled frequency: 339.5625\n",
      "Playing the sampled frequency: 339.5625\n",
      "Playing the sampled frequency: 344.76190476190476\n",
      "Playing the sampled frequency: 344.76190476190476\n",
      "Playing the sampled frequency: 350.96153846153845\n",
      "Playing the sampled frequency: 350.96153846153845\n",
      "Playing the sampled frequency: 355.93548387096774\n",
      "Playing the sampled frequency: 355.93548387096774\n",
      "Playing the sampled frequency: 352.30555555555554\n",
      "Playing the sampled frequency: 352.30555555555554\n",
      "Playing the sampled frequency: 355.5121951219512\n",
      "Playing the sampled frequency: 355.5121951219512\n",
      "Playing the sampled frequency: 350.82608695652175\n",
      "Playing the sampled frequency: 350.82608695652175\n",
      "Playing the sampled frequency: 352.5098039215686\n",
      "Playing the sampled frequency: 352.5098039215686\n",
      "Playing the sampled frequency: 349.9285714285714\n",
      "Playing the sampled frequency: 349.9285714285714\n",
      "Playing the sampled frequency: 351.11475409836066\n",
      "Playing the sampled frequency: 351.11475409836066\n",
      "Playing the sampled frequency: 348.969696969697\n",
      "Playing the sampled frequency: 348.969696969697\n",
      "Playing the sampled frequency: 351.11267605633805\n",
      "Playing the sampled frequency: 351.11267605633805\n",
      "Playing the sampled frequency: 350.60526315789474\n",
      "Playing the sampled frequency: 350.60526315789474\n",
      "Playing the sampled frequency: 351.01234567901236\n",
      "Playing the sampled frequency: 351.01234567901236\n",
      "Playing the sampled frequency: 349.87209302325584\n",
      "Playing the sampled frequency: 349.87209302325584\n",
      "Playing the sampled frequency: 347.74725274725273\n",
      "Playing the sampled frequency: 347.74725274725273\n",
      "Playing the sampled frequency: 351.9375\n",
      "Playing the sampled frequency: 351.9375\n",
      "Playing the sampled frequency: 351.44554455445547\n",
      "Playing the sampled frequency: 351.44554455445547\n",
      "Playing the sampled frequency: 352.6415094339623\n",
      "Playing the sampled frequency: 352.6415094339623\n",
      "Playing the sampled frequency: 344.71171171171176\n",
      "Playing the sampled frequency: 344.71171171171176\n",
      "Playing the sampled frequency: 349.5344827586207\n",
      "Playing the sampled frequency: 349.5344827586207\n",
      "Playing the sampled frequency: 349.13223140495865\n",
      "Playing the sampled frequency: 349.13223140495865\n",
      "Playing the sampled frequency: 353.08730158730157\n",
      "Playing the sampled frequency: 353.08730158730157\n",
      "Playing the sampled frequency: 349.5267175572519\n",
      "Playing the sampled frequency: 349.5267175572519\n",
      "Playing the sampled frequency: 349.2720588235294\n",
      "Playing the sampled frequency: 349.2720588235294\n",
      "Playing the sampled frequency: 348.9290780141844\n",
      "Playing the sampled frequency: 348.9290780141844\n",
      "Playing the sampled frequency: 350.0890410958904\n",
      "Playing the sampled frequency: 350.0890410958904\n",
      "Playing the sampled frequency: 351.56953642384104\n",
      "Playing the sampled frequency: 351.56953642384104\n",
      "Playing the sampled frequency: 351.1217948717949\n",
      "Playing the sampled frequency: 351.1217948717949\n",
      "Playing the sampled frequency: 349.6583850931677\n",
      "Playing the sampled frequency: 349.6583850931677\n",
      "Playing the sampled frequency: 351.23493975903614\n",
      "Playing the sampled frequency: 351.23493975903614\n",
      "Playing the sampled frequency: 348.4327485380117\n",
      "Playing the sampled frequency: 348.4327485380117\n",
      "Playing the sampled frequency: 351.6136363636364\n",
      "Playing the sampled frequency: 351.6136363636364\n",
      "Playing the sampled frequency: 351.4585635359116\n",
      "Playing the sampled frequency: 351.4585635359116\n",
      "Playing the sampled frequency: 349.10215053763443\n",
      "Playing the sampled frequency: 349.10215053763443\n",
      "Playing the sampled frequency: 349.06806282722516\n",
      "Playing the sampled frequency: 349.06806282722516\n",
      "Playing the sampled frequency: 349.33163265306126\n",
      "Playing the sampled frequency: 349.33163265306126\n",
      "Playing the sampled frequency: 350.60696517412936\n",
      "Playing the sampled frequency: 350.60696517412936\n",
      "Playing the sampled frequency: 348.5533980582524\n"
     ]
    },
    {
     "name": "stdout",
     "output_type": "stream",
     "text": [
      "Playing the sampled frequency: 348.5533980582524\n",
      "Playing the sampled frequency: 350.07582938388623\n",
      "Playing the sampled frequency: 350.07582938388623\n",
      "Playing the sampled frequency: 350.80555555555554\n",
      "Playing the sampled frequency: 350.80555555555554\n",
      "Playing the sampled frequency: 349.13574660633486\n",
      "Playing the sampled frequency: 349.13574660633486\n",
      "Playing the sampled frequency: 348.1061946902655\n",
      "Playing the sampled frequency: 348.1061946902655\n",
      "Playing the sampled frequency: 348.45021645021643\n",
      "Playing the sampled frequency: 348.45021645021643\n",
      "Playing the sampled frequency: 349.29661016949154\n",
      "Playing the sampled frequency: 349.29661016949154\n",
      "Playing the sampled frequency: 351.43568464730293\n",
      "Playing the sampled frequency: 351.43568464730293\n",
      "Playing the sampled frequency: 349.4186991869919\n",
      "Playing the sampled frequency: 349.4186991869919\n",
      "Playing the sampled frequency: 349.2350597609562\n",
      "Playing the sampled frequency: 349.2350597609562\n",
      "Playing the sampled frequency: 349.48828125\n",
      "Playing the sampled frequency: 349.48828125\n",
      "Playing the sampled frequency: 348.40996168582376\n",
      "Playing the sampled frequency: 348.40996168582376\n",
      "Playing the sampled frequency: 349.5488721804511\n",
      "Playing the sampled frequency: 349.5488721804511\n",
      "Playing the sampled frequency: 350.5719557195572\n",
      "Playing the sampled frequency: 350.5719557195572\n",
      "Playing the sampled frequency: 349.8514492753623\n",
      "Playing the sampled frequency: 349.8514492753623\n",
      "Playing the sampled frequency: 347.52669039145906\n",
      "Playing the sampled frequency: 347.52669039145906\n",
      "Playing the sampled frequency: 349.9020979020979\n",
      "Playing the sampled frequency: 349.9020979020979\n",
      "Playing the sampled frequency: 350.92783505154637\n",
      "Playing the sampled frequency: 350.92783505154637\n",
      "Playing the sampled frequency: 349.3344594594594\n"
     ]
    }
   ],
   "source": [
    "play_convergence_expectation()"
   ]
  },
  {
   "cell_type": "markdown",
   "metadata": {},
   "source": [
    "# It's that hot new hit all the kids love these days \"Ur Love is Poisson\""
   ]
  },
  {
   "cell_type": "markdown",
   "metadata": {},
   "source": [
    "Turn out this song is different everytime because probability! "
   ]
  },
  {
   "cell_type": "code",
   "execution_count": 112,
   "metadata": {},
   "outputs": [
    {
     "name": "stdout",
     "output_type": "stream",
     "text": [
      "Playing: 3\n",
      "Playing: 2\n",
      "Playing: 1\n",
      "Playing: 2\n",
      "Playing: 0\n",
      "Playing: 1\n",
      "Playing: 1\n",
      "Playing: 1\n",
      "Playing: 4\n",
      "Playing: 2\n",
      "Playing: 2\n",
      "Playing: 1\n",
      "Playing: 2\n",
      "Playing: 3\n",
      "Playing: 3\n",
      "Playing: 0\n",
      "Playing: 1\n",
      "Playing: 2\n",
      "Playing: 4\n",
      "Playing: 3\n",
      "Playing: 0\n",
      "Playing: 3\n",
      "Playing: 1\n",
      "Playing: 1\n",
      "Playing: 5\n",
      "Playing: 3\n",
      "Playing: 3\n",
      "Playing: 2\n",
      "Playing: 1\n",
      "Playing: 0\n"
     ]
    },
    {
     "data": {
      "image/png": "[encoded data removed]",
      "text/plain": [
       "<Figure size 432x288 with 1 Axes>"
      ]
     },
     "metadata": {
      "needs_background": "light"
     },
     "output_type": "display_data"
    }
   ],
   "source": [
    "hear_poisson_in_G(30)"
   ]
  },
  {
   "cell_type": "code",
   "execution_count": 110,
   "metadata": {},
   "outputs": [
    {
     "name": "stdout",
     "output_type": "stream",
     "text": [
      "Playing: (0, 2)\n",
      "Playing: (1, 25)\n",
      "Playing: (2, 43)\n",
      "Playing: (3, 91)\n",
      "Playing: (4, 82)\n",
      "Playing: (5, 85)\n",
      "Playing: (6, 59)\n",
      "Playing: (7, 48)\n",
      "Playing: (8, 30)\n",
      "Playing: (9, 19)\n",
      "Playing: (10, 7)\n",
      "Playing: (11, 5)\n",
      "Playing: (12, 3)\n",
      "Playing: (13, 1)\n"
     ]
    },
    {
     "data": {
      "image/png": "[encoded data removed]",
      "text/plain": [
       "<Figure size 432x288 with 1 Axes>"
      ]
     },
     "metadata": {
      "needs_background": "light"
     },
     "output_type": "display_data"
    }
   ],
   "source": [
    "hear_poisson_dist_in_series(5, 500, True)"
   ]
  },
  {
   "cell_type": "code",
   "execution_count": null,
   "metadata": {},
   "outputs": [],
   "source": []
  }
 ],
 "metadata": {
  "kernelspec": {
   "display_name": "Python 3",
   "language": "python",
   "name": "python3"
  },
  "language_info": {
   "codemirror_mode": {
    "name": "ipython",
    "version": 3
   },
   "file_extension": ".py",
   "mimetype": "text/x-python",
   "name": "python",
   "nbconvert_exporter": "python",
   "pygments_lexer": "ipython3",
   "version": "3.6.6"
  }
 },
 "nbformat": 4,
 "nbformat_minor": 2
}